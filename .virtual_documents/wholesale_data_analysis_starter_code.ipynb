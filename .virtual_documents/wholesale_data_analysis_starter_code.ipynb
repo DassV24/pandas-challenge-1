


import pandas as pd

df = pd.read_csv('Resources/client_dataset.csv')
df.head()


# View the column names in the data
df.columns


# Use the describe function to gather some basic statistics
df.describe()


# Use this space to do any additional research
# and familiarize yourself with the data.
var0 = df.index
print(var0)

var1 = df.columns
print(var1)

var2 = df.count()
print(var2)

var3 = df.sort_values(by='category')
print(f"this is the sroted values, {var3}")

# type = type(df)
# print(f"this the type,{type}")


# What three item categories had the most entries?
df.describe()


# For the category with the most entries, which subcategory had the most entries?



# Which five clients had the most entries in the data?



# Store the client ids of those top 5 clients in a list.



# How many total units (the qty column) did the client with the most entries order order?






# Create a column that calculates the subtotal for each line using the unit_price and the qty



# Create a column for shipping price.
# Assume a shipping price of $7 per pound for orders over 50 pounds and $10 per pound for items 50 pounds or under.




# Create a column for the total price using the subtotal and the shipping price along with a sales tax of 9.25%



# Create a column for the cost of each line using unit cost, qty, and
# shipping price (assume the shipping cost is exactly what is charged to the client).




# Create a column for the profit of each line using line cost and line price







# Check your work using the totals above






# How much did each of the top 5 clients by quantity spend? Check your work from Part 1 for client ids.




# Create a summary DataFrame showing the totals for the for the top 5 clients with the following information:
# total units purchased, total shipping price, total revenue, and total profit. 



# Format the data and rename the columns to names suitable for presentation.

# Define the money columns. 


# Define a function that converts a dollar amount to millions.


# Apply the currency_format_millions function to only the money columns. 


# Rename the columns to reflect the change in the money format. 





# Sort the updated data by "Total Profit (millions)" form highest to lowest and assign the sort to a new DatFrame.




